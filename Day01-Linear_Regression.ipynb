{
  "nbformat": 4,
  "nbformat_minor": 0,
  "metadata": {
    "colab": {
      "provenance": [],
      "authorship_tag": "ABX9TyMR7j+THbVbdquVrwJvb0Yo",
      "include_colab_link": true
    },
    "kernelspec": {
      "name": "python3",
      "display_name": "Python 3"
    },
    "language_info": {
      "name": "python"
    }
  },
  "cells": [
    {
      "cell_type": "markdown",
      "metadata": {
        "id": "view-in-github",
        "colab_type": "text"
      },
      "source": [
        "<a href=\"https://colab.research.google.com/github/mukul-mschauhan/linear-regression/blob/main/Day01-Linear_Regression.ipynb\" target=\"_parent\"><img src=\"https://colab.research.google.com/assets/colab-badge.svg\" alt=\"Open In Colab\"/></a>"
      ]
    },
    {
      "cell_type": "code",
      "execution_count": 1,
      "metadata": {
        "id": "SfHoKO4KWExg"
      },
      "outputs": [],
      "source": [
        "import numpy as np\n",
        "import pandas as pd\n",
        "import matplotlib.pyplot as plt\n",
        "import seaborn as sns\n",
        "\n",
        "import warnings\n",
        "warnings.filterwarnings(\"ignore\")"
      ]
    },
    {
      "cell_type": "markdown",
      "source": [
        "### Predict the Premium of a Car Insurance basis Mileage"
      ],
      "metadata": {
        "id": "POU0Nvs5V53o"
      }
    },
    {
      "cell_type": "code",
      "source": [
        "\n",
        "premium = pd.DataFrame({\"Mileage\":[15, 14,17, 7, 10, 7, 20, 21,\n",
        "                                   18, 11, 7.9, 8.6, 12.3, 17.1, 19.4],\n",
        "                        \"Premium\":[392.5, 46.2, 15.7, 422.2, 119.4, 170.9,\n",
        "                                   56.9, 77.5, 214, 65.3, 250, 220, 217.5, 140.88, 97.25]})"
      ],
      "metadata": {
        "id": "z43LtX4uVxzD"
      },
      "execution_count": 2,
      "outputs": []
    },
    {
      "cell_type": "markdown",
      "source": [
        "### Calculation of Slope and Intercept"
      ],
      "metadata": {
        "id": "I8t53zbYXPEj"
      }
    },
    {
      "cell_type": "code",
      "source": [
        "xbar = premium.Mileage.mean()\n",
        "ybar = premium.Premium.mean()"
      ],
      "metadata": {
        "id": "AoIClQOmXH31"
      },
      "execution_count": 4,
      "outputs": []
    },
    {
      "cell_type": "code",
      "source": [
        "# Numerator\n",
        "num = np.sum((premium.Mileage - xbar)*(premium.Premium - ybar))\n",
        "\n",
        "# Denominator\n",
        "deno = np.sum((premium.Mileage - xbar)**2)\n",
        "\n",
        "beta1 = num/deno # Slope of the Model\n",
        "print(f\"Slope of the Model: {beta1}\")"
      ],
      "metadata": {
        "colab": {
          "base_uri": "https://localhost:8080/"
        },
        "id": "LckkWWG6XKBh",
        "outputId": "17b92f98-a0e5-4bdb-f22a-e2de4eb2f1d2"
      },
      "execution_count": 7,
      "outputs": [
        {
          "output_type": "stream",
          "name": "stdout",
          "text": [
            "Slope of the Model: -11.690503214338849\n"
          ]
        }
      ]
    },
    {
      "cell_type": "code",
      "source": [
        "# Intercept\n",
        "intercept = ybar - beta1*xbar\n",
        "print(f\"Intercept of the Model: {intercept}\")"
      ],
      "metadata": {
        "colab": {
          "base_uri": "https://localhost:8080/"
        },
        "id": "A3fHUNaTX2Gx",
        "outputId": "c602a0a2-9617-45ba-d27d-cbccd7bcf698"
      },
      "execution_count": 8,
      "outputs": [
        {
          "output_type": "stream",
          "name": "stdout",
          "text": [
            "Intercept of the Model: 327.08602066025105\n"
          ]
        }
      ]
    },
    {
      "cell_type": "code",
      "source": [
        "import scipy.stats as stats\n",
        "\n",
        "stats.linregress(premium.Mileage, premium.Premium)\n"
      ],
      "metadata": {
        "colab": {
          "base_uri": "https://localhost:8080/"
        },
        "id": "FLQgjWQkYtns",
        "outputId": "dc2dbad4-bff0-47e1-d01b-52506703c454"
      },
      "execution_count": 9,
      "outputs": [
        {
          "output_type": "execute_result",
          "data": {
            "text/plain": [
              "LinregressResult(slope=-11.690503214338849, intercept=327.08602066025105, rvalue=-0.4750732855334364, pvalue=0.07352019667187858, stderr=6.005609036323512, intercept_stderr=87.03548304465379)"
            ]
          },
          "metadata": {},
          "execution_count": 9
        }
      ]
    },
    {
      "cell_type": "code",
      "source": [
        "# Prediction using Equation 327.086 -11.69 * Mileage\n",
        "\n",
        "premium['yhat'] = intercept + beta1*premium.Mileage"
      ],
      "metadata": {
        "id": "ETIcZdhha_TY"
      },
      "execution_count": 12,
      "outputs": []
    },
    {
      "cell_type": "code",
      "source": [
        "# Error is also known as Residual | yi-yhat\n",
        "\n",
        "premium[\"error\"] = premium.Premium - premium.yhat"
      ],
      "metadata": {
        "id": "Y28fR2Rmb7CS"
      },
      "execution_count": 13,
      "outputs": []
    },
    {
      "cell_type": "code",
      "source": [
        "#np.sum(premium.error) = 0 | yi-yhat**2\n",
        "# RMSE\n",
        "n = premium.shape[0]\n",
        "\n",
        "SSE = np.sum(premium.error**2)\n",
        "MSE = SSE/n\n",
        "RMSE = np.sqrt(MSE)\n",
        "\n",
        "print(f\"RMSE: {RMSE}\")"
      ],
      "metadata": {
        "colab": {
          "base_uri": "https://localhost:8080/"
        },
        "id": "mx4zFLiPdBwX",
        "outputId": "d90741da-f620-452f-d3eb-1a9006a6525a"
      },
      "execution_count": 15,
      "outputs": [
        {
          "output_type": "stream",
          "name": "stdout",
          "text": [
            "RMSE: 103.17588938167539\n"
          ]
        }
      ]
    },
    {
      "cell_type": "code",
      "source": [
        "# Direct Function\n",
        "from sklearn.metrics import mean_squared_error\n",
        "\n",
        "np.sqrt(mean_squared_error(premium.Premium, premium.yhat))"
      ],
      "metadata": {
        "colab": {
          "base_uri": "https://localhost:8080/"
        },
        "id": "hAJR_y3RdFxe",
        "outputId": "1c26b7f5-b130-4715-95f5-f298d898412e"
      },
      "execution_count": 16,
      "outputs": [
        {
          "output_type": "execute_result",
          "data": {
            "text/plain": [
              "103.17588938167539"
            ]
          },
          "metadata": {},
          "execution_count": 16
        }
      ]
    },
    {
      "cell_type": "markdown",
      "source": [
        "### Visualizing Regression Model"
      ],
      "metadata": {
        "id": "QMb6OfRAfMT4"
      }
    },
    {
      "cell_type": "code",
      "source": [
        "sns.scatterplot(x = \"Mileage\", y = \"Premium\", data = premium)\n",
        "plt.plot(premium.Mileage, premium.yhat,\n",
        "         color = \"red\", label = \"Regression Line\")\n",
        "plt.legend()\n",
        "plt.show()"
      ],
      "metadata": {
        "colab": {
          "base_uri": "https://localhost:8080/",
          "height": 449
        },
        "id": "LGXTk2Gjewjl",
        "outputId": "3c9a930e-a119-4626-aa13-4dac2f9f7a98"
      },
      "execution_count": 18,
      "outputs": [
        {
          "output_type": "display_data",
          "data": {
            "text/plain": [
              "<Figure size 640x480 with 1 Axes>"
            ],
            "image/png": "[encoded data removed]"
          },
          "metadata": {}
        }
      ]
    },
    {
      "cell_type": "markdown",
      "source": [
        "### Model Diagnostic\n",
        "\n",
        "* RSquared\n",
        "* Adjusted R2\n",
        "* FTest of the Model & PValue\n",
        "* Slope and Intercept\n",
        "* Standard Error\n",
        "* TTest & PValue\n",
        "* Confidence Interval"
      ],
      "metadata": {
        "id": "kdNkWR2rgDUX"
      }
    },
    {
      "cell_type": "code",
      "source": [
        "# Model\n",
        "import statsmodels.formula.api as sfa\n",
        "\n",
        "model = sfa.ols(\"Premium~Mileage\",\n",
        "                data = premium).fit() # fit: Slope & Intercept\n",
        "print(model.summary())"
      ],
      "metadata": {
        "colab": {
          "base_uri": "https://localhost:8080/"
        },
        "id": "NRizbuPZfVn-",
        "outputId": "1172593e-166d-4034-8fe4-1c32ff7b2fc0"
      },
      "execution_count": 19,
      "outputs": [
        {
          "output_type": "stream",
          "name": "stdout",
          "text": [
            "                            OLS Regression Results                            \n",
            "==============================================================================\n",
            "Dep. Variable:                Premium   R-squared:                       0.226\n",
            "Model:                            OLS   Adj. R-squared:                  0.166\n",
            "Method:                 Least Squares   F-statistic:                     3.789\n",
            "Date:                Mon, 16 Dec 2024   Prob (F-statistic):             0.0735\n",
            "Time:                        08:08:51   Log-Likelihood:                -90.831\n",
            "No. Observations:                  15   AIC:                             185.7\n",
            "Df Residuals:                      13   BIC:                             187.1\n",
            "Df Model:                           1                                         \n",
            "Covariance Type:            nonrobust                                         \n",
            "==============================================================================\n",
            "                 coef    std err          t      P>|t|      [0.025      0.975]\n",
            "------------------------------------------------------------------------------\n",
            "Intercept    327.0860     87.035      3.758      0.002     139.057     515.115\n",
            "Mileage      -11.6905      6.006     -1.947      0.074     -24.665       1.284\n",
            "==============================================================================\n",
            "Omnibus:                        3.225   Durbin-Watson:                   2.347\n",
            "Prob(Omnibus):                  0.199   Jarque-Bera (JB):                1.770\n",
            "Skew:                           0.841   Prob(JB):                        0.413\n",
            "Kurtosis:                       3.057   Cond. No.                         44.3\n",
            "==============================================================================\n",
            "\n",
            "Notes:\n",
            "[1] Standard Errors assume that the covariance matrix of the errors is correctly specified.\n"
          ]
        }
      ]
    },
    {
      "cell_type": "markdown",
      "source": [
        "## Calculation of R Squared\n",
        "\n",
        "r-sq = 1 - (SSE/SST)"
      ],
      "metadata": {
        "id": "LX-nkbV5lz1E"
      }
    },
    {
      "cell_type": "code",
      "source": [
        "SST = np.sum((premium.Premium - ybar)**2)\n",
        "\n",
        "# SSE = np.sum(premium.Premium - yhat**2)\n",
        "rsquared = 1 - (SSE/SST)\n",
        "\n",
        "print(f\"RSquared: {rsquared}\")"
      ],
      "metadata": {
        "colab": {
          "base_uri": "https://localhost:8080/"
        },
        "id": "LhK9HJcog0UA",
        "outputId": "71eb7f59-8008-4493-a0c1-9916cccf1053"
      },
      "execution_count": 21,
      "outputs": [
        {
          "output_type": "stream",
          "name": "stdout",
          "text": [
            "RSquared: 0.22569462662753426\n"
          ]
        }
      ]
    },
    {
      "cell_type": "code",
      "source": [],
      "metadata": {
        "id": "M9DxS8Fgl6pe"
      },
      "execution_count": null,
      "outputs": []
    }
  ]
}