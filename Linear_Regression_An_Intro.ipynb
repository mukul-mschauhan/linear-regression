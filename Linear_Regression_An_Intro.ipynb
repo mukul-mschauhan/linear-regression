{
  "nbformat": 4,
  "nbformat_minor": 0,
  "metadata": {
    "colab": {
      "provenance": [],
      "authorship_tag": "ABX9TyOLyb15WElqVxe16C6jQTOw",
      "include_colab_link": true
    },
    "kernelspec": {
      "name": "python3",
      "display_name": "Python 3"
    },
    "language_info": {
      "name": "python"
    }
  },
  "cells": [
    {
      "cell_type": "markdown",
      "metadata": {
        "id": "view-in-github",
        "colab_type": "text"
      },
      "source": [
        "<a href=\"https://colab.research.google.com/github/mukul-mschauhan/linear-regression/blob/main/Linear_Regression_An_Intro.ipynb\" target=\"_parent\"><img src=\"https://colab.research.google.com/assets/colab-badge.svg\" alt=\"Open In Colab\"/></a>"
      ]
    },
    {
      "cell_type": "code",
      "execution_count": 1,
      "metadata": {
        "id": "SfHoKO4KWExg"
      },
      "outputs": [],
      "source": [
        "import numpy as np\n",
        "import pandas as pd\n",
        "import matplotlib.pyplot as plt\n",
        "import seaborn as sns\n",
        "\n",
        "import warnings\n",
        "warnings.filterwarnings(\"ignore\")"
      ]
    },
    {
      "cell_type": "markdown",
      "source": [
        "### Predict the Premium of a Car Insurance basis Mileage"
      ],
      "metadata": {
        "id": "POU0Nvs5V53o"
      }
    },
    {
      "cell_type": "code",
      "source": [
        "\n",
        "premium = pd.DataFrame({\"Mileage\":[15, 14,17, 7, 10, 7, 20, 21,\n",
        "                                   18, 11, 7.9, 8.6, 12.3, 17.1, 19.4],\n",
        "                        \"Premium\":[392.5, 46.2, 15.7, 422.2, 119.4, 170.9,\n",
        "                                   56.9, 77.5, 214, 65.3, 250, 220, 217.5, 140.88, 97.25]})"
      ],
      "metadata": {
        "id": "z43LtX4uVxzD"
      },
      "execution_count": 2,
      "outputs": []
    },
    {
      "cell_type": "markdown",
      "source": [
        "### Calculation of Slope and Intercept"
      ],
      "metadata": {
        "id": "I8t53zbYXPEj"
      }
    },
    {
      "cell_type": "code",
      "source": [
        "xbar = premium.Mileage.mean()\n",
        "ybar = premium.Premium.mean()"
      ],
      "metadata": {
        "id": "AoIClQOmXH31"
      },
      "execution_count": 16,
      "outputs": []
    },
    {
      "cell_type": "code",
      "source": [
        "# Numerator\n",
        "num = np.sum((premium.Mileage - xbar)*(premium.Premium - ybar))\n",
        "\n",
        "# Denominator\n",
        "deno = np.sum((premium.Mileage - xbar)**2)\n",
        "\n",
        "beta1 = num/deno # Slope of the Model\n",
        "print(f\"Slope of the Model: {beta1}\")"
      ],
      "metadata": {
        "colab": {
          "base_uri": "https://localhost:8080/"
        },
        "id": "LckkWWG6XKBh",
        "outputId": "84bff2a6-5654-4022-854d-5c2ec8b5afe5"
      },
      "execution_count": 17,
      "outputs": [
        {
          "output_type": "stream",
          "name": "stdout",
          "text": [
            "Slope of the Model: -11.690503214338849\n"
          ]
        }
      ]
    },
    {
      "cell_type": "code",
      "source": [
        "# Intercept\n",
        "intercept = ybar - beta1*xbar\n",
        "print(f\"Intercept of the Model: {intercept}\")"
      ],
      "metadata": {
        "colab": {
          "base_uri": "https://localhost:8080/"
        },
        "id": "A3fHUNaTX2Gx",
        "outputId": "ac8c29db-39ba-49e1-a5f6-0b9bb4d30c75"
      },
      "execution_count": 18,
      "outputs": [
        {
          "output_type": "stream",
          "name": "stdout",
          "text": [
            "Intercept of the Model: 327.08602066025105\n"
          ]
        }
      ]
    },
    {
      "cell_type": "code",
      "source": [
        "import scipy.stats as stats\n",
        "\n",
        "stats.linregress(premium.Mileage, premium.Premium)\n"
      ],
      "metadata": {
        "colab": {
          "base_uri": "https://localhost:8080/"
        },
        "id": "FLQgjWQkYtns",
        "outputId": "d998b076-c84c-464e-d007-c3a691f621ec"
      },
      "execution_count": 19,
      "outputs": [
        {
          "output_type": "execute_result",
          "data": {
            "text/plain": [
              "LinregressResult(slope=-11.690503214338849, intercept=327.08602066025105, rvalue=-0.4750732855334364, pvalue=0.07352019667187858, stderr=6.005609036323512, intercept_stderr=87.03548304465379)"
            ]
          },
          "metadata": {},
          "execution_count": 19
        }
      ]
    },
    {
      "cell_type": "code",
      "source": [
        "# Prediction using Equation 327.086 -11.69 * Mileage\n",
        "\n",
        "premium['yhat'] = intercept + beta1*premium.Mileage"
      ],
      "metadata": {
        "id": "ETIcZdhha_TY"
      },
      "execution_count": 20,
      "outputs": []
    },
    {
      "cell_type": "code",
      "source": [
        "# Error is also known as Residual | yi-yhat\n",
        "\n",
        "premium[\"error\"] = premium.Premium - premium.yhat"
      ],
      "metadata": {
        "id": "Y28fR2Rmb7CS"
      },
      "execution_count": 21,
      "outputs": []
    },
    {
      "cell_type": "code",
      "source": [
        "#np.sum(premium.error) = 0 | yi-yhat**2\n",
        "# RMSE\n",
        "n = premium.shape[0]\n",
        "\n",
        "SSE = np.sum(premium.error**2)\n",
        "MSE = SSE/n\n",
        "RMSE = np.sqrt(MSE)\n",
        "\n",
        "print(f\"RMSE: {RMSE}\")"
      ],
      "metadata": {
        "colab": {
          "base_uri": "https://localhost:8080/"
        },
        "id": "mx4zFLiPdBwX",
        "outputId": "c0964dcd-bcab-4c46-9ca1-7adefd380de5"
      },
      "execution_count": 22,
      "outputs": [
        {
          "output_type": "stream",
          "name": "stdout",
          "text": [
            "RMSE: 103.17588938167539\n"
          ]
        }
      ]
    },
    {
      "cell_type": "code",
      "source": [
        "# Direct Function\n",
        "from sklearn.metrics import mean_squared_error\n",
        "\n",
        "np.sqrt(mean_squared_error(premium.Premium, premium.yhat))"
      ],
      "metadata": {
        "colab": {
          "base_uri": "https://localhost:8080/"
        },
        "id": "hAJR_y3RdFxe",
        "outputId": "fbfdfcfd-0fb7-4c5d-9a44-8aa89b6a202f"
      },
      "execution_count": 23,
      "outputs": [
        {
          "output_type": "execute_result",
          "data": {
            "text/plain": [
              "103.17588938167539"
            ]
          },
          "metadata": {},
          "execution_count": 23
        }
      ]
    },
    {
      "cell_type": "markdown",
      "source": [
        "### Visualizing Regression Model"
      ],
      "metadata": {
        "id": "QMb6OfRAfMT4"
      }
    },
    {
      "cell_type": "code",
      "source": [
        "sns.scatterplot(x = \"Mileage\", y = \"Premium\", data = premium)\n",
        "plt.plot(premium.Mileage, premium.yhat,\n",
        "         color = \"red\", label = \"Regression Line\")\n",
        "plt.legend()\n",
        "plt.show()"
      ],
      "metadata": {
        "colab": {
          "base_uri": "https://localhost:8080/",
          "height": 449
        },
        "id": "LGXTk2Gjewjl",
        "outputId": "e53639f4-8e02-434a-9b16-7dcab9873485"
      },
      "execution_count": 24,
      "outputs": [
        {
          "output_type": "display_data",
          "data": {
            "text/plain": [
              "<Figure size 640x480 with 1 Axes>"
            ],
            "image/png": "[encoded data removed]"
          },
          "metadata": {}
        }
      ]
    },
    {
      "cell_type": "markdown",
      "source": [
        "### Model Diagnostic\n",
        "\n",
        "* RSquared\n",
        "* Adjusted R2\n",
        "* FTest of the Model & PValue\n",
        "* Slope and Intercept\n",
        "* Standard Error\n",
        "* TTest & PValue\n",
        "* Confidence Interval"
      ],
      "metadata": {
        "id": "kdNkWR2rgDUX"
      }
    },
    {
      "cell_type": "code",
      "source": [
        "# Model\n",
        "import statsmodels.formula.api as sfa\n",
        "\n",
        "model = sfa.ols(\"Premium~Mileage\",\n",
        "                data = premium).fit() # fit: Slope & Intercept\n",
        "print(model.summary())"
      ],
      "metadata": {
        "colab": {
          "base_uri": "https://localhost:8080/"
        },
        "id": "NRizbuPZfVn-",
        "outputId": "c9a02a4b-645d-4737-f360-df02ad564034"
      },
      "execution_count": 25,
      "outputs": [
        {
          "output_type": "stream",
          "name": "stdout",
          "text": [
            "                            OLS Regression Results                            \n",
            "==============================================================================\n",
            "Dep. Variable:                Premium   R-squared:                       0.226\n",
            "Model:                            OLS   Adj. R-squared:                  0.166\n",
            "Method:                 Least Squares   F-statistic:                     3.789\n",
            "Date:                Tue, 17 Dec 2024   Prob (F-statistic):             0.0735\n",
            "Time:                        03:13:55   Log-Likelihood:                -90.831\n",
            "No. Observations:                  15   AIC:                             185.7\n",
            "Df Residuals:                      13   BIC:                             187.1\n",
            "Df Model:                           1                                         \n",
            "Covariance Type:            nonrobust                                         \n",
            "==============================================================================\n",
            "                 coef    std err          t      P>|t|      [0.025      0.975]\n",
            "------------------------------------------------------------------------------\n",
            "Intercept    327.0860     87.035      3.758      0.002     139.057     515.115\n",
            "Mileage      -11.6905      6.006     -1.947      0.074     -24.665       1.284\n",
            "==============================================================================\n",
            "Omnibus:                        3.225   Durbin-Watson:                   2.347\n",
            "Prob(Omnibus):                  0.199   Jarque-Bera (JB):                1.770\n",
            "Skew:                           0.841   Prob(JB):                        0.413\n",
            "Kurtosis:                       3.057   Cond. No.                         44.3\n",
            "==============================================================================\n",
            "\n",
            "Notes:\n",
            "[1] Standard Errors assume that the covariance matrix of the errors is correctly specified.\n"
          ]
        }
      ]
    },
    {
      "cell_type": "markdown",
      "source": [
        "## Calculation of R Squared\n",
        "\n",
        "r-sq = 1 - (SSE/SST)"
      ],
      "metadata": {
        "id": "LX-nkbV5lz1E"
      }
    },
    {
      "cell_type": "code",
      "source": [
        "SST = np.sum((premium.Premium - ybar)**2)\n",
        "\n",
        "# SSE = np.sum(premium.Premium - yhat**2)\n",
        "rsquared = 1 - (SSE/SST)\n",
        "\n",
        "print(f\"RSquared: {rsquared}\")"
      ],
      "metadata": {
        "colab": {
          "base_uri": "https://localhost:8080/"
        },
        "id": "LhK9HJcog0UA",
        "outputId": "4363b515-1ca8-4a80-da8f-360b27b19328"
      },
      "execution_count": 26,
      "outputs": [
        {
          "output_type": "stream",
          "name": "stdout",
          "text": [
            "RSquared: 0.22569462662753426\n"
          ]
        }
      ]
    },
    {
      "cell_type": "code",
      "source": [
        "tips = pd.get_dummies(tips, drop_first=True)"
      ],
      "metadata": {
        "id": "Aa3N8snAkKH4"
      },
      "execution_count": 9,
      "outputs": []
    },
    {
      "cell_type": "code",
      "source": [
        "#tips = sns.load_dataset(\"tips\")\n",
        "# tip has target variable\n",
        "model = sfa.ols(\"tip~total_bill+size\", data = tips).fit()\n",
        "print(model.summary())"
      ],
      "metadata": {
        "id": "M9DxS8Fgl6pe",
        "colab": {
          "base_uri": "https://localhost:8080/"
        },
        "outputId": "db04ffa4-bfba-47cf-e228-42f1d3c5ebab"
      },
      "execution_count": 15,
      "outputs": [
        {
          "output_type": "stream",
          "name": "stdout",
          "text": [
            "                            OLS Regression Results                            \n",
            "==============================================================================\n",
            "Dep. Variable:                    tip   R-squared:                       0.468\n",
            "Model:                            OLS   Adj. R-squared:                  0.463\n",
            "Method:                 Least Squares   F-statistic:                     105.9\n",
            "Date:                Tue, 17 Dec 2024   Prob (F-statistic):           9.67e-34\n",
            "Time:                        03:11:03   Log-Likelihood:                -347.99\n",
            "No. Observations:                 244   AIC:                             702.0\n",
            "Df Residuals:                     241   BIC:                             712.5\n",
            "Df Model:                           2                                         \n",
            "Covariance Type:            nonrobust                                         \n",
            "==============================================================================\n",
            "                 coef    std err          t      P>|t|      [0.025      0.975]\n",
            "------------------------------------------------------------------------------\n",
            "Intercept      0.6689      0.194      3.455      0.001       0.288       1.050\n",
            "total_bill     0.0927      0.009     10.172      0.000       0.075       0.111\n",
            "size           0.1926      0.085      2.258      0.025       0.025       0.361\n",
            "==============================================================================\n",
            "Omnibus:                       24.753   Durbin-Watson:                   2.100\n",
            "Prob(Omnibus):                  0.000   Jarque-Bera (JB):               46.169\n",
            "Skew:                           0.545   Prob(JB):                     9.43e-11\n",
            "Kurtosis:                       4.831   Cond. No.                         67.6\n",
            "==============================================================================\n",
            "\n",
            "Notes:\n",
            "[1] Standard Errors assume that the covariance matrix of the errors is correctly specified.\n"
          ]
        }
      ]
    },
    {
      "cell_type": "markdown",
      "source": [
        "tip_hat = 0.6689+0.0927 * total_bill + 0.1926 * size"
      ],
      "metadata": {
        "id": "oBDw24PEk9Hx"
      }
    },
    {
      "cell_type": "code",
      "source": [
        "# Adjusted R2 on premium mileage data 1 - r2*(n-1)/n-k-1\n",
        "k = 1\n",
        "n = premium.shape[0]\n",
        "\n",
        "num = (1 - rsquared)*(n-1)\n",
        "deno = n-k-1\n",
        "\n",
        "adj_rsquared = 1 - (num/deno)\n",
        "print(f\"Adjusted RSquared: {adj_rsquared}\")"
      ],
      "metadata": {
        "colab": {
          "base_uri": "https://localhost:8080/"
        },
        "id": "XDwjH71MknRo",
        "outputId": "362749d8-0e3e-476b-c6be-ab1a523f1404"
      },
      "execution_count": 35,
      "outputs": [
        {
          "output_type": "stream",
          "name": "stdout",
          "text": [
            "Adjusted RSquared: 0.16613267482965222\n"
          ]
        }
      ]
    },
    {
      "cell_type": "code",
      "source": [
        "# FStat and Anova\n",
        "SSE = np.sum(premium.error**2)\n",
        "MSE = SSE/deno # n-k-1\n",
        "\n",
        "SSR = SST - SSE\n",
        "MSR = SSR/k\n",
        "\n",
        "FStat = MSR/MSE\n",
        "print(f\"FStat: {FStat}\")\n",
        "\n",
        "# PValue\n",
        "print(1 - stats.f.cdf(FStat, k, deno))\n",
        "\n",
        "# Inference: Model is not Significant"
      ],
      "metadata": {
        "colab": {
          "base_uri": "https://localhost:8080/"
        },
        "id": "Gnj_Rlq7le9m",
        "outputId": "cb138999-2095-49d9-b725-c2f02a5ded37"
      },
      "execution_count": 43,
      "outputs": [
        {
          "output_type": "stream",
          "name": "stdout",
          "text": [
            "FStat: 3.789241618431314\n",
            "0.07352019667187837\n"
          ]
        }
      ]
    },
    {
      "cell_type": "code",
      "source": [
        "# Direct Approach # -1.947\n",
        "beta1 = model.params[1] # Slope\n",
        "se = model.bse[1]\n",
        "\n",
        "ttest_stats = beta1/se\n",
        "print(f\"TStat: {ttest_stats}\")\n",
        "\n",
        "pvalue = stats.t.cdf(ttest_stats, deno)*2\n",
        "print(f\"PValue: {pvalue}\")"
      ],
      "metadata": {
        "colab": {
          "base_uri": "https://localhost:8080/"
        },
        "id": "sugFg-4IqEWr",
        "outputId": "00913ada-7ee1-4767-8397-a61e6d71bccd"
      },
      "execution_count": 55,
      "outputs": [
        {
          "output_type": "stream",
          "name": "stdout",
          "text": [
            "TStat: -1.9465974464257663\n",
            "PValue: 0.07352019667187841\n"
          ]
        }
      ]
    },
    {
      "cell_type": "code",
      "source": [
        "# Confidence Interval - Slope\n",
        "stats.t.interval(0.95, loc = beta1, scale = se, df = deno)"
      ],
      "metadata": {
        "colab": {
          "base_uri": "https://localhost:8080/"
        },
        "id": "V33NvnkAsCAL",
        "outputId": "d4babba9-1207-4e97-abac-0f9c876d7dd8"
      },
      "execution_count": 56,
      "outputs": [
        {
          "output_type": "execute_result",
          "data": {
            "text/plain": [
              "(-24.664832739371192, 1.2838263106934864)"
            ]
          },
          "metadata": {},
          "execution_count": 56
        }
      ]
    },
    {
      "cell_type": "code",
      "source": [
        "# Standard Error\n",
        "\n",
        "num = SSE/(n-2)\n",
        "deno = np.sum((premium.Mileage - xbar)**2)\n",
        "\n",
        "se = np.sqrt(num/deno)\n",
        "print(f\"Standard Error: {se}\")"
      ],
      "metadata": {
        "colab": {
          "base_uri": "https://localhost:8080/"
        },
        "id": "7x8WcAP_vM7x",
        "outputId": "32341390-fb7b-407c-9e94-3e461223d805"
      },
      "execution_count": 60,
      "outputs": [
        {
          "output_type": "stream",
          "name": "stdout",
          "text": [
            "Standard Error: 6.005609036323512\n"
          ]
        }
      ]
    },
    {
      "cell_type": "code",
      "source": [
        "premium.head()"
      ],
      "metadata": {
        "colab": {
          "base_uri": "https://localhost:8080/",
          "height": 206
        },
        "id": "DtW0O-cFw2Eh",
        "outputId": "bcacd49b-a711-48d6-8190-b3dc96b147a8"
      },
      "execution_count": 61,
      "outputs": [
        {
          "output_type": "execute_result",
          "data": {
            "text/plain": [
              "   Mileage  Premium        yhat       error\n",
              "0     15.0    392.5  151.728472  240.771528\n",
              "1     14.0     46.2  163.418976 -117.218976\n",
              "2     17.0     15.7  128.347466 -112.647466\n",
              "3      7.0    422.2  245.252498  176.947502\n",
              "4     10.0    119.4  210.180989  -90.780989"
            ],
            "text/html": [
              "\n",
              "  <div id=\"df-9702c372-0cf6-4285-953e-c58e745c7714\" class=\"colab-df-container\">\n",
              "    <div>\n",
              "<style scoped>\n",
              "    .dataframe tbody tr th:only-of-type {\n",
              "        vertical-align: middle;\n",
              "    }\n",
              "\n",
              "    .dataframe tbody tr th {\n",
              "        vertical-align: top;\n",
              "    }\n",
              "\n",
              "    .dataframe thead th {\n",
              "        text-align: right;\n",
              "    }\n",
              "</style>\n",
              "<table border=\"1\" class=\"dataframe\">\n",
              "  <thead>\n",
              "    <tr style=\"text-align: right;\">\n",
              "      <th></th>\n",
              "      <th>Mileage</th>\n",
              "      <th>Premium</th>\n",
              "      <th>yhat</th>\n",
              "      <th>error</th>\n",
              "    </tr>\n",
              "  </thead>\n",
              "  <tbody>\n",
              "    <tr>\n",
              "      <th>0</th>\n",
              "      <td>15.0</td>\n",
              "      <td>392.5</td>\n",
              "      <td>151.728472</td>\n",
              "      <td>240.771528</td>\n",
              "    </tr>\n",
              "    <tr>\n",
              "      <th>1</th>\n",
              "      <td>14.0</td>\n",
              "      <td>46.2</td>\n",
              "      <td>163.418976</td>\n",
              "      <td>-117.218976</td>\n",
              "    </tr>\n",
              "    <tr>\n",
              "      <th>2</th>\n",
              "      <td>17.0</td>\n",
              "      <td>15.7</td>\n",
              "      <td>128.347466</td>\n",
              "      <td>-112.647466</td>\n",
              "    </tr>\n",
              "    <tr>\n",
              "      <th>3</th>\n",
              "      <td>7.0</td>\n",
              "      <td>422.2</td>\n",
              "      <td>245.252498</td>\n",
              "      <td>176.947502</td>\n",
              "    </tr>\n",
              "    <tr>\n",
              "      <th>4</th>\n",
              "      <td>10.0</td>\n",
              "      <td>119.4</td>\n",
              "      <td>210.180989</td>\n",
              "      <td>-90.780989</td>\n",
              "    </tr>\n",
              "  </tbody>\n",
              "</table>\n",
              "</div>\n",
              "    <div class=\"colab-df-buttons\">\n",
              "\n",
              "  <div class=\"colab-df-container\">\n",
              "    <button class=\"colab-df-convert\" onclick=\"convertToInteractive('df-9702c372-0cf6-4285-953e-c58e745c7714')\"\n",
              "            title=\"Convert this dataframe to an interactive table.\"\n",
              "            style=\"display:none;\">\n",
              "\n",
              "  <svg xmlns=\"http://www.w3.org/2000/svg\" height=\"24px\" viewBox=\"0 -960 960 960\">\n",
              "    <path d=\"M120-120v-720h720v720H120Zm60-500h600v-160H180v160Zm220 220h160v-160H400v160Zm0 220h160v-160H400v160ZM180-400h160v-160H180v160Zm440 0h160v-160H620v160ZM180-180h160v-160H180v160Zm440 0h160v-160H620v160Z\"/>\n",
              "  </svg>\n",
              "    </button>\n",
              "\n",
              "  <style>\n",
              "    .colab-df-container {\n",
              "      display:flex;\n",
              "      gap: 12px;\n",
              "    }\n",
              "\n",
              "    .colab-df-convert {\n",
              "      background-color: #E8F0FE;\n",
              "      border: none;\n",
              "      border-radius: 50%;\n",
              "      cursor: pointer;\n",
              "      display: none;\n",
              "      fill: #1967D2;\n",
              "      height: 32px;\n",
              "      padding: 0 0 0 0;\n",
              "      width: 32px;\n",
              "    }\n",
              "\n",
              "    .colab-df-convert:hover {\n",
              "      background-color: #E2EBFA;\n",
              "      box-shadow: 0px 1px 2px rgba(60, 64, 67, 0.3), 0px 1px 3px 1px rgba(60, 64, 67, 0.15);\n",
              "      fill: #174EA6;\n",
              "    }\n",
              "\n",
              "    .colab-df-buttons div {\n",
              "      margin-bottom: 4px;\n",
              "    }\n",
              "\n",
              "    [theme=dark] .colab-df-convert {\n",
              "      background-color: #3B4455;\n",
              "      fill: #D2E3FC;\n",
              "    }\n",
              "\n",
              "    [theme=dark] .colab-df-convert:hover {\n",
              "      background-color: #434B5C;\n",
              "      box-shadow: 0px 1px 3px 1px rgba(0, 0, 0, 0.15);\n",
              "      filter: drop-shadow(0px 1px 2px rgba(0, 0, 0, 0.3));\n",
              "      fill: #FFFFFF;\n",
              "    }\n",
              "  </style>\n",
              "\n",
              "    <script>\n",
              "      const buttonEl =\n",
              "        document.querySelector('#df-9702c372-0cf6-4285-953e-c58e745c7714 button.colab-df-convert');\n",
              "      buttonEl.style.display =\n",
              "        google.colab.kernel.accessAllowed ? 'block' : 'none';\n",
              "\n",
              "      async function convertToInteractive(key) {\n",
              "        const element = document.querySelector('#df-9702c372-0cf6-4285-953e-c58e745c7714');\n",
              "        const dataTable =\n",
              "          await google.colab.kernel.invokeFunction('convertToInteractive',\n",
              "                                                    [key], {});\n",
              "        if (!dataTable) return;\n",
              "\n",
              "        const docLinkHtml = 'Like what you see? Visit the ' +\n",
              "          '<a target=\"_blank\" href=https://colab.research.google.com/notebooks/data_table.ipynb>data table notebook</a>'\n",
              "          + ' to learn more about interactive tables.';\n",
              "        element.innerHTML = '';\n",
              "        dataTable['output_type'] = 'display_data';\n",
              "        await google.colab.output.renderOutput(dataTable, element);\n",
              "        const docLink = document.createElement('div');\n",
              "        docLink.innerHTML = docLinkHtml;\n",
              "        element.appendChild(docLink);\n",
              "      }\n",
              "    </script>\n",
              "  </div>\n",
              "\n",
              "\n",
              "<div id=\"df-62f89921-6e90-48b7-ba21-29fb64557bbb\">\n",
              "  <button class=\"colab-df-quickchart\" onclick=\"quickchart('df-62f89921-6e90-48b7-ba21-29fb64557bbb')\"\n",
              "            title=\"Suggest charts\"\n",
              "            style=\"display:none;\">\n",
              "\n",
              "<svg xmlns=\"http://www.w3.org/2000/svg\" height=\"24px\"viewBox=\"0 0 24 24\"\n",
              "     width=\"24px\">\n",
              "    <g>\n",
              "        <path d=\"M19 3H5c-1.1 0-2 .9-2 2v14c0 1.1.9 2 2 2h14c1.1 0 2-.9 2-2V5c0-1.1-.9-2-2-2zM9 17H7v-7h2v7zm4 0h-2V7h2v10zm4 0h-2v-4h2v4z\"/>\n",
              "    </g>\n",
              "</svg>\n",
              "  </button>\n",
              "\n",
              "<style>\n",
              "  .colab-df-quickchart {\n",
              "      --bg-color: #E8F0FE;\n",
              "      --fill-color: #1967D2;\n",
              "      --hover-bg-color: #E2EBFA;\n",
              "      --hover-fill-color: #174EA6;\n",
              "      --disabled-fill-color: #AAA;\n",
              "      --disabled-bg-color: #DDD;\n",
              "  }\n",
              "\n",
              "  [theme=dark] .colab-df-quickchart {\n",
              "      --bg-color: #3B4455;\n",
              "      --fill-color: #D2E3FC;\n",
              "      --hover-bg-color: #434B5C;\n",
              "      --hover-fill-color: #FFFFFF;\n",
              "      --disabled-bg-color: #3B4455;\n",
              "      --disabled-fill-color: #666;\n",
              "  }\n",
              "\n",
              "  .colab-df-quickchart {\n",
              "    background-color: var(--bg-color);\n",
              "    border: none;\n",
              "    border-radius: 50%;\n",
              "    cursor: pointer;\n",
              "    display: none;\n",
              "    fill: var(--fill-color);\n",
              "    height: 32px;\n",
              "    padding: 0;\n",
              "    width: 32px;\n",
              "  }\n",
              "\n",
              "  .colab-df-quickchart:hover {\n",
              "    background-color: var(--hover-bg-color);\n",
              "    box-shadow: 0 1px 2px rgba(60, 64, 67, 0.3), 0 1px 3px 1px rgba(60, 64, 67, 0.15);\n",
              "    fill: var(--button-hover-fill-color);\n",
              "  }\n",
              "\n",
              "  .colab-df-quickchart-complete:disabled,\n",
              "  .colab-df-quickchart-complete:disabled:hover {\n",
              "    background-color: var(--disabled-bg-color);\n",
              "    fill: var(--disabled-fill-color);\n",
              "    box-shadow: none;\n",
              "  }\n",
              "\n",
              "  .colab-df-spinner {\n",
              "    border: 2px solid var(--fill-color);\n",
              "    border-color: transparent;\n",
              "    border-bottom-color: var(--fill-color);\n",
              "    animation:\n",
              "      spin 1s steps(1) infinite;\n",
              "  }\n",
              "\n",
              "  @keyframes spin {\n",
              "    0% {\n",
              "      border-color: transparent;\n",
              "      border-bottom-color: var(--fill-color);\n",
              "      border-left-color: var(--fill-color);\n",
              "    }\n",
              "    20% {\n",
              "      border-color: transparent;\n",
              "      border-left-color: var(--fill-color);\n",
              "      border-top-color: var(--fill-color);\n",
              "    }\n",
              "    30% {\n",
              "      border-color: transparent;\n",
              "      border-left-color: var(--fill-color);\n",
              "      border-top-color: var(--fill-color);\n",
              "      border-right-color: var(--fill-color);\n",
              "    }\n",
              "    40% {\n",
              "      border-color: transparent;\n",
              "      border-right-color: var(--fill-color);\n",
              "      border-top-color: var(--fill-color);\n",
              "    }\n",
              "    60% {\n",
              "      border-color: transparent;\n",
              "      border-right-color: var(--fill-color);\n",
              "    }\n",
              "    80% {\n",
              "      border-color: transparent;\n",
              "      border-right-color: var(--fill-color);\n",
              "      border-bottom-color: var(--fill-color);\n",
              "    }\n",
              "    90% {\n",
              "      border-color: transparent;\n",
              "      border-bottom-color: var(--fill-color);\n",
              "    }\n",
              "  }\n",
              "</style>\n",
              "\n",
              "  <script>\n",
              "    async function quickchart(key) {\n",
              "      const quickchartButtonEl =\n",
              "        document.querySelector('#' + key + ' button');\n",
              "      quickchartButtonEl.disabled = true;  // To prevent multiple clicks.\n",
              "      quickchartButtonEl.classList.add('colab-df-spinner');\n",
              "      try {\n",
              "        const charts = await google.colab.kernel.invokeFunction(\n",
              "            'suggestCharts', [key], {});\n",
              "      } catch (error) {\n",
              "        console.error('Error during call to suggestCharts:', error);\n",
              "      }\n",
              "      quickchartButtonEl.classList.remove('colab-df-spinner');\n",
              "      quickchartButtonEl.classList.add('colab-df-quickchart-complete');\n",
              "    }\n",
              "    (() => {\n",
              "      let quickchartButtonEl =\n",
              "        document.querySelector('#df-62f89921-6e90-48b7-ba21-29fb64557bbb button');\n",
              "      quickchartButtonEl.style.display =\n",
              "        google.colab.kernel.accessAllowed ? 'block' : 'none';\n",
              "    })();\n",
              "  </script>\n",
              "</div>\n",
              "\n",
              "    </div>\n",
              "  </div>\n"
            ],
            "application/vnd.google.colaboratory.intrinsic+json": {
              "type": "dataframe",
              "variable_name": "premium",
              "summary": "{\n  \"name\": \"premium\",\n  \"rows\": 15,\n  \"fields\": [\n    {\n      \"column\": \"Mileage\",\n      \"properties\": {\n        \"dtype\": \"number\",\n        \"std\": 4.9320912207220795,\n        \"min\": 7.0,\n        \"max\": 21.0,\n        \"num_unique_values\": 14,\n        \"samples\": [\n          7.9,\n          12.3,\n          15.0\n        ],\n        \"semantic_type\": \"\",\n        \"description\": \"\"\n      }\n    },\n    {\n      \"column\": \"Premium\",\n      \"properties\": {\n        \"dtype\": \"number\",\n        \"std\": 121.3678605491821,\n        \"min\": 15.7,\n        \"max\": 422.2,\n        \"num_unique_values\": 15,\n        \"samples\": [\n          65.3,\n          220.0,\n          392.5\n        ],\n        \"semantic_type\": \"\",\n        \"description\": \"\"\n      }\n    },\n    {\n      \"column\": \"yhat\",\n      \"properties\": {\n        \"dtype\": \"number\",\n        \"std\": 57.658628269263886,\n        \"min\": 81.58545315913523,\n        \"max\": 245.2524981598791,\n        \"num_unique_values\": 14,\n        \"samples\": [\n          234.73104526697415,\n          183.29283112388322,\n          151.72847244516834\n        ],\n        \"semantic_type\": \"\",\n        \"description\": \"\"\n      }\n    },\n    {\n      \"column\": \"error\",\n      \"properties\": {\n        \"dtype\": \"number\",\n        \"std\": 106.79719172521604,\n        \"min\": -133.1904853025237,\n        \"max\": 240.77152755483166,\n        \"num_unique_values\": 15,\n        \"samples\": [\n          -133.1904853025237,\n          -6.547693016936961,\n          240.77152755483166\n        ],\n        \"semantic_type\": \"\",\n        \"description\": \"\"\n      }\n    }\n  ]\n}"
            }
          },
          "metadata": {},
          "execution_count": 61
        }
      ]
    },
    {
      "cell_type": "code",
      "source": [],
      "metadata": {
        "id": "5UZQRYDoTCzA"
      },
      "execution_count": null,
      "outputs": []
    }
  ]
}