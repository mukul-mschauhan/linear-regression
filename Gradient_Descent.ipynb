{
  "nbformat": 4,
  "nbformat_minor": 0,
  "metadata": {
    "colab": {
      "provenance": [],
      "authorship_tag": "ABX9TyNq2phFZZ1H0M2QlzOJNi5e",
      "include_colab_link": true
    },
    "kernelspec": {
      "name": "python3",
      "display_name": "Python 3"
    },
    "language_info": {
      "name": "python"
    }
  },
  "cells": [
    {
      "cell_type": "markdown",
      "metadata": {
        "id": "view-in-github",
        "colab_type": "text"
      },
      "source": [
        "<a href=\"https://colab.research.google.com/github/mukul-mschauhan/linear-regression/blob/main/Gradient_Descent.ipynb\" target=\"_parent\"><img src=\"https://colab.research.google.com/assets/colab-badge.svg\" alt=\"Open In Colab\"/></a>"
      ]
    },
    {
      "cell_type": "code",
      "execution_count": 1,
      "metadata": {
        "id": "xzwoKuuhc35k"
      },
      "outputs": [],
      "source": [
        "import numpy as np\n",
        "import pandas"
      ]
    },
    {
      "cell_type": "code",
      "source": [
        "# Define the Dataset\n",
        "X = np.array([2,5,7])\n",
        "y = np.array([5,12,15])\n",
        "\n",
        "# Random Assignment of Weights\n",
        "beta0 = 1 # Intercept\n",
        "beta1 = 3 # Slope\n",
        "learning_rate = 0.01\n",
        "\n",
        "def predict(beta0, beta1, x):\n",
        "  return(beta0 + beta1*x)\n",
        "\n",
        "def calculate_cost(yi, yhat):\n",
        "  return(0.5*np.sum((yi-yhat)**2))"
      ],
      "metadata": {
        "id": "KS3euMfXc-vB"
      },
      "execution_count": 6,
      "outputs": []
    },
    {
      "cell_type": "code",
      "source": [
        "yhat = predict(beta0, beta1, X)\n",
        "calculate_cost(y, yhat)"
      ],
      "metadata": {
        "colab": {
          "base_uri": "https://localhost:8080/"
        },
        "id": "hWBKy8j8dGIv",
        "outputId": "d9e3eb7e-e165-4d29-8255-c4d44765ce26"
      },
      "execution_count": 7,
      "outputs": [
        {
          "output_type": "execute_result",
          "data": {
            "text/plain": [
              "34.5"
            ]
          },
          "metadata": {},
          "execution_count": 7
        }
      ]
    },
    {
      "cell_type": "code",
      "source": [
        "# Update the Weights and Biases\n",
        "\n",
        "def weights_and_biases(X, y, beta0, beta1, learning_rate, iterations):\n",
        "  for i in range(iterations):\n",
        "    # Predictions\n",
        "    yhat = predict(beta0, beta1, X)\n",
        "\n",
        "    # Calculate the Gradients\n",
        "    gradient_beta0 = -np.sum(y - yhat)\n",
        "    gradient_beta1 = -np.sum(X*(y-yhat))\n",
        "\n",
        "    # Update the Gradients\n",
        "    beta0 = beta0 - learning_rate*gradient_beta0\n",
        "    beta1 = beta1 - learning_rate*gradient_beta1\n",
        "\n",
        "    # Caculate the Cost\n",
        "    sse = calculate_cost(y, yhat)\n",
        "\n",
        "    # Print the Output\n",
        "    print(f\"Iteration:{i+1}\")\n",
        "    print(f\"Predictions: {yhat}\")\n",
        "    print(f\"Gradient Beta0: {gradient_beta0}\")\n",
        "    print(f\"Gradient Beta1: {gradient_beta1}\")\n",
        "    print(f\"Beta0: {beta0}, Beta1: {beta1}\")\n",
        "    print(f\"SSE: {sse}\\n\")"
      ],
      "metadata": {
        "id": "MAfTmh5segO-"
      },
      "execution_count": 18,
      "outputs": []
    },
    {
      "cell_type": "code",
      "source": [
        "weights_and_biases(X, y, beta0, beta1, 0.01, 10)"
      ],
      "metadata": {
        "colab": {
          "base_uri": "https://localhost:8080/"
        },
        "id": "fHavLmVtgWH_",
        "outputId": "3b514a32-0e0b-49fc-f353-62f2df20bcb1"
      },
      "execution_count": 37,
      "outputs": [
        {
          "output_type": "stream",
          "name": "stdout",
          "text": [
            "Iteration:1\n",
            "Predictions: [ 7 16 22]\n",
            "Gradient Beta0: 13\n",
            "Gradient Beta1: 73\n",
            "Beta0: 0.724242427, Beta1: 1.451515167\n",
            "SSE: 34.5\n",
            "\n",
            "Iteration:2\n",
            "Predictions: [ 3.62727276  7.98181826 10.8848486 ]\n",
            "Gradient Beta0: -9.506060381000001\n",
            "Gradient Beta1: -51.642422996\n",
            "Beta0: 0.925886130035078, Beta1: 2.5469604923243345\n",
            "SSE: 17.48231781506622\n",
            "\n",
            "Iteration:3\n",
            "Predictions: [ 6.01980711 13.66068859 18.75460958]\n",
            "Gradient Beta0: 6.435105282645917\n",
            "Gradient Beta1: 36.625324221789185\n",
            "Beta0: 0.7893838981318536, Beta1: 1.7700596832675115\n",
            "SSE: 8.947493110051417\n",
            "\n",
            "Iteration:4\n",
            "Predictions: [ 4.32950326  9.63968231 13.17980168]\n",
            "Gradient Beta0: -4.851012739859278\n",
            "Gradient Beta1: -25.88397013128815\n",
            "Beta0: 0.8922841673422901, Beta1: 2.3191135896527815\n",
            "SSE: 4.666893684597568\n",
            "\n",
            "Iteration:5\n",
            "Predictions: [ 5.53051135 12.48785212 17.12607929]\n",
            "Gradient Beta0: 3.1444427571658116\n",
            "Gradient Beta1: 18.38283833570902\n",
            "Beta0: 0.8255838670997153, Beta1: 1.929174598552283\n",
            "SSE: 2.519827571938027\n",
            "\n",
            "Iteration:6\n",
            "Predictions: [ 4.68393306 10.47145686 14.32980606]\n",
            "Gradient Beta0: -2.514804018968893\n",
            "Gradient Beta1: -12.966207173525918\n",
            "Beta0: 0.8789281942413698, Beta1: 2.204215354028183\n",
            "SSE: 1.4427511802243806\n",
            "\n",
            "Iteration:7\n",
            "Predictions: [ 5.2873589  11.90000496 16.30843567]\n",
            "Gradient Beta0: 1.495799539118667\n",
            "Gradient Beta1: 9.233792333577425\n",
            "Beta0: 0.8471991134258404, Beta1: 2.008347033759466\n",
            "SSE: 0.9022890273939626\n",
            "\n",
            "Iteration:8\n",
            "Predictions: [ 4.86389318 10.88893428 14.90562835]\n",
            "Gradient Beta0: -1.341544187089954\n",
            "Gradient Beta1: -6.488143778799882\n",
            "Beta0: 0.8756561110492391, Beta1: 2.1459743246607665\n",
            "SSE: 0.630949051892335\n",
            "\n",
            "Iteration:9\n",
            "Predictions: [ 5.16760476 11.60552773 15.89747638]\n",
            "Gradient Beta0: 0.6706088783984478\n",
            "Gradient Beta1: 4.6451828782291305\n",
            "Beta0: 0.861431074376977, Beta1: 2.047440143380642\n",
            "SSE: 0.4945817916586054\n",
            "\n",
            "Iteration:10\n",
            "Predictions: [ 4.95631136 11.09863179 15.19351208]\n",
            "Gradient Beta0: -0.7515447695400814\n",
            "Gradient Beta1: -3.2396337750322495\n",
            "Beta0: 0.8773729329653783, Beta1: 2.1161596470123127\n",
            "SSE: 0.4259101346021417\n",
            "\n"
          ]
        }
      ]
    },
    {
      "cell_type": "markdown",
      "source": [
        "### Direct Approach"
      ],
      "metadata": {
        "id": "ZzpRjguWxN22"
      }
    },
    {
      "cell_type": "code",
      "source": [
        "from sklearn.linear_model import LinearRegression\n",
        "\n",
        "lr = LinearRegression()\n",
        "\n",
        "pred = lr.fit(X.reshape(-1,1), y).predict(X.reshape(-1,1))\n",
        "print(pred)"
      ],
      "metadata": {
        "colab": {
          "base_uri": "https://localhost:8080/"
        },
        "id": "YMt1zRnGgbdV",
        "outputId": "efcc05d3-dc7d-4c34-f7eb-def065f41e57"
      },
      "execution_count": 26,
      "outputs": [
        {
          "output_type": "stream",
          "name": "stdout",
          "text": [
            "[ 5.26315789 11.34210526 15.39473684]\n"
          ]
        }
      ]
    },
    {
      "cell_type": "code",
      "source": [
        "calculate_cost(y, pred)"
      ],
      "metadata": {
        "colab": {
          "base_uri": "https://localhost:8080/"
        },
        "id": "P6dKYr8BxVpd",
        "outputId": "6f16c71f-c6da-494b-87aa-50e3d166c419"
      },
      "execution_count": 27,
      "outputs": [
        {
          "output_type": "execute_result",
          "data": {
            "text/plain": [
              "0.3289473684210517"
            ]
          },
          "metadata": {},
          "execution_count": 27
        }
      ]
    },
    {
      "cell_type": "code",
      "source": [
        "lr.coef_"
      ],
      "metadata": {
        "colab": {
          "base_uri": "https://localhost:8080/"
        },
        "id": "xgfkYncUxhcN",
        "outputId": "ce913f7a-04f1-4a1a-bfad-a733caa12c21"
      },
      "execution_count": 28,
      "outputs": [
        {
          "output_type": "execute_result",
          "data": {
            "text/plain": [
              "array([2.02631579])"
            ]
          },
          "metadata": {},
          "execution_count": 28
        }
      ]
    },
    {
      "cell_type": "code",
      "source": [],
      "metadata": {
        "id": "xoUDHCISxli1"
      },
      "execution_count": null,
      "outputs": []
    }
  ]
}